{
 "cells": [
  {
   "cell_type": "markdown",
   "metadata": {},
   "source": [
    "# Sales Analysis"
   ]
  },
  {
   "cell_type": "markdown",
   "metadata": {},
   "source": [
    "### Import Libraries"
   ]
  },
  {
   "cell_type": "code",
   "execution_count": 1,
   "metadata": {},
   "outputs": [],
   "source": [
    "import pandas as pd"
   ]
  },
  {
   "cell_type": "markdown",
   "metadata": {},
   "source": [
    "## Task 1: Merge 12 months of sales data in to one csv file."
   ]
  },
  {
   "cell_type": "code",
   "execution_count": 2,
   "metadata": {},
   "outputs": [],
   "source": [
    "january_df = pd.read_csv('Sales_Data/Sales_January_2019.csv')\n",
    "february_df = pd.read_csv('Sales_Data/Sales_February_2019.csv')\n",
    "march_df = pd.read_csv('Sales_Data/Sales_March_2019.csv')\n",
    "april_df = pd.read_csv('Sales_Data/Sales_April_2019.csv')\n",
    "may_df = pd.read_csv('Sales_Data/Sales_May_2019.csv')\n",
    "june_df = pd.read_csv('Sales_Data/Sales_June_2019.csv')\n",
    "july_df = pd.read_csv('Sales_Data/Sales_July_2019.csv')\n",
    "august_df = pd.read_csv('Sales_Data/Sales_August_2019.csv')\n",
    "september_df = pd.read_csv('Sales_Data/Sales_September_2019.csv')\n",
    "october_df = pd.read_csv('Sales_Data/Sales_October_2019.csv')\n",
    "november_df = pd.read_csv('Sales_Data/Sales_November_2019.csv')\n",
    "december_df = pd.read_csv('Sales_Data/Sales_December_2019.csv')"
   ]
  },
  {
   "cell_type": "code",
   "execution_count": 3,
   "metadata": {},
   "outputs": [],
   "source": [
    "full_df = pd.DataFrame()\n",
    "full_df = full_df.append(january_df)\n",
    "full_df = full_df.append(february_df)\n",
    "full_df = full_df.append(march_df)\n",
    "full_df = full_df.append(april_df)\n",
    "full_df = full_df.append(may_df)\n",
    "full_df = full_df.append(june_df)\n",
    "full_df = full_df.append(july_df)\n",
    "full_df = full_df.append(august_df)\n",
    "full_df = full_df.append(september_df)\n",
    "full_df = full_df.append(october_df)\n",
    "full_df = full_df.append(november_df)\n",
    "full_df = full_df.append(december_df)"
   ]
  },
  {
   "cell_type": "code",
   "execution_count": 4,
   "metadata": {},
   "outputs": [
    {
     "data": {
      "text/plain": [
       "(186850, 6)"
      ]
     },
     "execution_count": 4,
     "metadata": {},
     "output_type": "execute_result"
    }
   ],
   "source": [
    "full_df.shape"
   ]
  },
  {
   "cell_type": "code",
   "execution_count": 6,
   "metadata": {},
   "outputs": [],
   "source": [
    "full_df.to_csv('Sales.csv', index=False)"
   ]
  },
  {
   "cell_type": "markdown",
   "metadata": {},
   "source": [
    "#### Read all data from file"
   ]
  },
  {
   "cell_type": "code",
   "execution_count": 7,
   "metadata": {},
   "outputs": [
    {
     "data": {
      "text/html": [
       "<div>\n",
       "<style scoped>\n",
       "    .dataframe tbody tr th:only-of-type {\n",
       "        vertical-align: middle;\n",
       "    }\n",
       "\n",
       "    .dataframe tbody tr th {\n",
       "        vertical-align: top;\n",
       "    }\n",
       "\n",
       "    .dataframe thead th {\n",
       "        text-align: right;\n",
       "    }\n",
       "</style>\n",
       "<table border=\"1\" class=\"dataframe\">\n",
       "  <thead>\n",
       "    <tr style=\"text-align: right;\">\n",
       "      <th></th>\n",
       "      <th>Order ID</th>\n",
       "      <th>Product</th>\n",
       "      <th>Quantity Ordered</th>\n",
       "      <th>Price Each</th>\n",
       "      <th>Order Date</th>\n",
       "      <th>Purchase Address</th>\n",
       "    </tr>\n",
       "  </thead>\n",
       "  <tbody>\n",
       "    <tr>\n",
       "      <th>0</th>\n",
       "      <td>141234</td>\n",
       "      <td>iPhone</td>\n",
       "      <td>1</td>\n",
       "      <td>700</td>\n",
       "      <td>01/22/19 21:25</td>\n",
       "      <td>944 Walnut St, Boston, MA 02215</td>\n",
       "    </tr>\n",
       "    <tr>\n",
       "      <th>1</th>\n",
       "      <td>141235</td>\n",
       "      <td>Lightning Charging Cable</td>\n",
       "      <td>1</td>\n",
       "      <td>14.95</td>\n",
       "      <td>01/28/19 14:15</td>\n",
       "      <td>185 Maple St, Portland, OR 97035</td>\n",
       "    </tr>\n",
       "    <tr>\n",
       "      <th>2</th>\n",
       "      <td>141236</td>\n",
       "      <td>Wired Headphones</td>\n",
       "      <td>2</td>\n",
       "      <td>11.99</td>\n",
       "      <td>01/17/19 13:33</td>\n",
       "      <td>538 Adams St, San Francisco, CA 94016</td>\n",
       "    </tr>\n",
       "    <tr>\n",
       "      <th>3</th>\n",
       "      <td>141237</td>\n",
       "      <td>27in FHD Monitor</td>\n",
       "      <td>1</td>\n",
       "      <td>149.99</td>\n",
       "      <td>01/05/19 20:33</td>\n",
       "      <td>738 10th St, Los Angeles, CA 90001</td>\n",
       "    </tr>\n",
       "    <tr>\n",
       "      <th>4</th>\n",
       "      <td>141238</td>\n",
       "      <td>Wired Headphones</td>\n",
       "      <td>1</td>\n",
       "      <td>11.99</td>\n",
       "      <td>01/25/19 11:59</td>\n",
       "      <td>387 10th St, Austin, TX 73301</td>\n",
       "    </tr>\n",
       "  </tbody>\n",
       "</table>\n",
       "</div>"
      ],
      "text/plain": [
       "  Order ID                   Product Quantity Ordered Price Each  \\\n",
       "0   141234                    iPhone                1        700   \n",
       "1   141235  Lightning Charging Cable                1      14.95   \n",
       "2   141236          Wired Headphones                2      11.99   \n",
       "3   141237          27in FHD Monitor                1     149.99   \n",
       "4   141238          Wired Headphones                1      11.99   \n",
       "\n",
       "       Order Date                       Purchase Address  \n",
       "0  01/22/19 21:25        944 Walnut St, Boston, MA 02215  \n",
       "1  01/28/19 14:15       185 Maple St, Portland, OR 97035  \n",
       "2  01/17/19 13:33  538 Adams St, San Francisco, CA 94016  \n",
       "3  01/05/19 20:33     738 10th St, Los Angeles, CA 90001  \n",
       "4  01/25/19 11:59          387 10th St, Austin, TX 73301  "
      ]
     },
     "execution_count": 7,
     "metadata": {},
     "output_type": "execute_result"
    }
   ],
   "source": [
    "all_data = pd.read_csv('Sales.csv')\n",
    "all_data.head()"
   ]
  },
  {
   "cell_type": "code",
   "execution_count": null,
   "metadata": {},
   "outputs": [],
   "source": []
  }
 ],
 "metadata": {
  "kernelspec": {
   "display_name": "Python 3",
   "language": "python",
   "name": "python3"
  },
  "language_info": {
   "codemirror_mode": {
    "name": "ipython",
    "version": 3
   },
   "file_extension": ".py",
   "mimetype": "text/x-python",
   "name": "python",
   "nbconvert_exporter": "python",
   "pygments_lexer": "ipython3",
   "version": "3.8.2"
  }
 },
 "nbformat": 4,
 "nbformat_minor": 4
}
